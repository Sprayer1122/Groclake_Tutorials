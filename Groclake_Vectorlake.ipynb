{
  "nbformat": 4,
  "nbformat_minor": 0,
  "metadata": {
    "colab": {
      "provenance": [],
      "include_colab_link": true
    },
    "kernelspec": {
      "name": "python3",
      "display_name": "Python 3"
    },
    "language_info": {
      "name": "python"
    }
  },
  "cells": [
    {
      "cell_type": "markdown",
      "metadata": {
        "id": "view-in-github",
        "colab_type": "text"
      },
      "source": [
        "<a href=\"https://colab.research.google.com/github/Sprayer1122/Groclake_Tutorials/blob/main/Groclake_Vectorlake.ipynb\" target=\"_parent\"><img src=\"https://colab.research.google.com/assets/colab-badge.svg\" alt=\"Open In Colab\"/></a>"
      ]
    },
    {
      "cell_type": "markdown",
      "source": [
        "# Vectorlake Session By Groclake Agentathon Team"
      ],
      "metadata": {
        "id": "H1h77Tu8GxiD"
      }
    },
    {
      "cell_type": "markdown",
      "source": [
        "#### Step 1: Install the GrocLake Library"
      ],
      "metadata": {
        "id": "YJvMvSJaGxga"
      }
    },
    {
      "cell_type": "code",
      "execution_count": null,
      "metadata": {
        "id": "u_UhZE4Aji4i"
      },
      "outputs": [],
      "source": [
        "!pip install groclake"
      ]
    },
    {
      "cell_type": "markdown",
      "source": [
        "#### Step 2: Set Up Environment Variables\n",
        "Set up the required environment variables for authentication. Replace the placeholders with your GrocLake API key and account ID.\n"
      ],
      "metadata": {
        "id": "4kYD-3sHHH6-"
      }
    },
    {
      "cell_type": "code",
      "source": [
        "import os\n",
        "from groclake.cataloglake import CatalogLake\n",
        "from groclake.modellake import ModelLake\n",
        "from groclake.datalake import DataLake\n",
        "from groclake.vectorlake import VectorLake\n",
        "\n",
        "# Environment variable setup\n",
        "GROCLAKE_API_KEY = 'your_api_key_here'\n",
        "GROCLAKE_ACCOUNT_ID = 'your_account_id_here'\n",
        "\n",
        "os.environ['GROCLAKE_API_KEY'] = GROCLAKE_API_KEY\n",
        "os.environ['GROCLAKE_ACCOUNT_ID'] = GROCLAKE_ACCOUNT_ID\n"
      ],
      "metadata": {
        "id": "FXdJaEMFjqDC"
      },
      "execution_count": null,
      "outputs": []
    },
    {
      "cell_type": "markdown",
      "source": [
        "#### Step 3: Initialize the VectorLake Client\n",
        "The `VectorLake` module is used for operations related to vectors. Initialize the client as shown below:"
      ],
      "metadata": {
        "id": "Z-9OwKtAHIzO"
      }
    },
    {
      "cell_type": "markdown",
      "source": [
        "#### Step 4: Create a New Vector\n",
        "Create a new vector instance and store its `vectorlake_id` for future operations."
      ],
      "metadata": {
        "id": "trZCeb6SHf01"
      }
    },
    {
      "cell_type": "code",
      "source": [
        "# Step 3: Initialize VectorLake Client\n",
        "# Initialize the VectorLake client to interact with its API.\n",
        "vector = VectorLake()\n",
        "\n",
        "# Step 4: Create a New Vector\n",
        "try:\n",
        "    vector_create = vector.create()\n",
        "    print(\"Vector created successfully:\", vector_create)\n",
        "\n",
        "    # Store the vectorlake_id\n",
        "    vectorlake_id = vector_create.get('vectorlake_id')\n",
        "    if vectorlake_id:\n",
        "        print(\"Stored vectorlake_id:\", vectorlake_id)\n",
        "    else:\n",
        "        print(\"vectorlake_id not found in the response.\")\n",
        "except Exception as e:\n",
        "    print(\"Error while creating vector:\", e)\n"
      ],
      "metadata": {
        "id": "LF6Sp1F6jtZd"
      },
      "execution_count": null,
      "outputs": []
    },
    {
      "cell_type": "markdown",
      "source": [
        "#### Step 5: Generate a Vector Representation\n",
        "Generate a vector representation for a given query string. For this example, we use a query about the capital of India:"
      ],
      "metadata": {
        "id": "49XXWYmCHO-6"
      }
    },
    {
      "cell_type": "code",
      "source": [
        "## Step 5: Generate a Vector Representation\n",
        "try:\n",
        "    query = \"Red shoes size 10\"\n",
        "    vector_data = vector.generate(query)\n",
        "    print(\"Generated Vector Data:\", vector_data)\n",
        "\n",
        "    # Store the vector\n",
        "    generated_vector = vector_data.get('vector')\n",
        "    if generated_vector:\n",
        "        print(\"Stored vector:\", generated_vector)\n",
        "    else:\n",
        "        print(\"Vector not found in the response.\")\n",
        "except Exception as e:\n",
        "    print(\"Error while generating vector data:\", e)\n"
      ],
      "metadata": {
        "id": "jMxdFZ0EjxCE"
      },
      "execution_count": null,
      "outputs": []
    },
    {
      "cell_type": "markdown",
      "source": [
        "#### Step 6: Push Vector Data\n",
        "Push the generated vector data to the vector lake along with metadata for organization and searchability."
      ],
      "metadata": {
        "id": "jmYkH0QYHWHd"
      }
    },
    {
      "cell_type": "code",
      "source": [
        "# Step 6\n",
        "\n",
        "\n",
        "payload = {\n",
        "    \"vector\": generated_vector,\n",
        "    \"vectorlake_id\": vectorlake_id,\n",
        "    \"document_text\": \"Red shoes size 10\",\n",
        "    \"vector_type\": \"text\",\n",
        "    \"metadata\": {\n",
        "        \"price\": \"100\",\n",
        "        \"color\": \"red\",\n",
        "        \"size\": \"10\"\n",
        "    }\n",
        "}\n",
        "\n",
        "print(payload)\n",
        "\n",
        "vector_push = vector.push(payload)\n",
        "print(\"vector_create----\", vector_push)\n",
        "\n",
        "# RESPONSE FOR VECTOR  CREATE\n",
        "#\n",
        "# {\n",
        "#     \"api_action_status\": \"success\",\n",
        "#     \"vector_id\": 261\n",
        "# }"
      ],
      "metadata": {
        "id": "UUvWfcvgiwwO"
      },
      "execution_count": null,
      "outputs": []
    },
    {
      "cell_type": "markdown",
      "source": [
        "#### Step 7: Perform a Vector Search\n",
        "Search for similar vectors in the vector lake using a query. For this example, we will use another query about the capital of India.\n"
      ],
      "metadata": {
        "id": "PHCNjzadHz1g"
      }
    },
    {
      "cell_type": "code",
      "source": [
        "## Step 7: Perform a Vector Search\n",
        "# Define payload for searching vector data\n",
        "try:\n",
        "    search_query = \"Red shoes for men size 10\"\n",
        "    vector_search_data = vector.generate(search_query)\n",
        "    search_vector = vector_search_data.get('vector')\n",
        "\n",
        "    search_payload = {\n",
        "        \"vector\": search_vector,\n",
        "        \"vectorlake_id\": vectorlake_id,\n",
        "        \"vector_type\": \"text\",\n",
        "    }\n",
        "\n",
        "    search_response = vector.search(search_payload)\n",
        "    print(\"Search results:\", search_response)\n",
        "except Exception as e:\n",
        "    print(\"Error while performing vector search:\", e)\n",
        "\n",
        "\n"
      ],
      "metadata": {
        "id": "_cAEHZroRfM1"
      },
      "execution_count": null,
      "outputs": []
    }
  ]
}