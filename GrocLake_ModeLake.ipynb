{
  "nbformat": 4,
  "nbformat_minor": 0,
  "metadata": {
    "colab": {
      "provenance": [],
      "include_colab_link": true
    },
    "kernelspec": {
      "name": "python3",
      "display_name": "Python 3"
    },
    "language_info": {
      "name": "python"
    }
  },
  "cells": [
    {
      "cell_type": "markdown",
      "metadata": {
        "id": "view-in-github",
        "colab_type": "text"
      },
      "source": [
        "<a href=\"https://colab.research.google.com/github/Sprayer1122/Groclake_Tutorials/blob/main/GrocLake_ModeLake.ipynb\" target=\"_parent\"><img src=\"https://colab.research.google.com/assets/colab-badge.svg\" alt=\"Open In Colab\"/></a>"
      ]
    },
    {
      "cell_type": "markdown",
      "source": [
        "# 1. Install the Groclake Library\n",
        "To begin, ensure that the Groclake library is installed on your system. You can do this by running the following command in your terminal:"
      ],
      "metadata": {
        "id": "S75ogCKi92ao"
      }
    },
    {
      "cell_type": "code",
      "execution_count": null,
      "metadata": {
        "id": "qrAkbjDGoWCV"
      },
      "outputs": [],
      "source": [
        "pip install groclake"
      ]
    },
    {
      "cell_type": "markdown",
      "source": [
        "Basic Sytax To Follow(You should definitely store your API Keys in .env file for this Tutorial we have exposed them for learning). Don't try to use them they will be deleted after the Tutorial."
      ],
      "metadata": {
        "id": "fv7MuCNdp6zx"
      }
    },
    {
      "cell_type": "markdown",
      "source": [
        "If you are using environment variables stored in a .env file, make sure to install the python-dotenv package to manage them:"
      ],
      "metadata": {
        "id": "Oavb0a5u96HI"
      }
    },
    {
      "cell_type": "code",
      "source": [
        "pip install python-dotenv"
      ],
      "metadata": {
        "id": "ugcG2hDH9sNV"
      },
      "execution_count": null,
      "outputs": []
    },
    {
      "cell_type": "markdown",
      "source": [
        "# 2. Initialize the Modellake from the Groclake Library\n",
        "Once the Groclake library is installed, the next step is to initialize Modellake. This module provides powerful tools for language translation, as well as the ability to build conversational AI models.\n",
        "\n",
        "To initialize Modellake, use the following code snippet:"
      ],
      "metadata": {
        "id": "Gu6wqJqJ9_Gk"
      }
    },
    {
      "cell_type": "code",
      "source": [
        "import os\n",
        "from groclake.cataloglake import Cataloglake\n",
        "from groclake.modellake import Modellake\n",
        "from groclake.datalake import Datalake\n",
        "from groclake.vectorlake import Vectorlake\n",
        "\n",
        "# Environment variable setup\n",
        "GROCLAKE_API_KEY = 'your_groclake_api_key'\n",
        "GROCLAKE_ACCOUNT_ID = 'your_groclake_account_id'\n",
        "\n",
        "os.environ['GROCLAKE_API_KEY'] = GROCLAKE_API_KEY\n",
        "os.environ['GROCLAKE_ACCOUNT_ID'] = GROCLAKE_ACCOUNT_ID\n",
        "\n",
        "# Initialize Groclake catalog instance\n",
        "model_lake = Modellake()\n",
        "data_lake = Datalake()\n",
        "vector_lake = Vectorlake()"
      ],
      "metadata": {
        "id": "W-VBrvitpeXq"
      },
      "execution_count": 3,
      "outputs": []
    },
    {
      "cell_type": "markdown",
      "source": [
        "# 3. Working with Language Traslation\n",
        "a. Defining the Payloads for language traslation tasks, you must define the payload structure. The payload typically includes the source language, the target language, and the text to be translated. Here's how you can define a traslation payload:\n",
        "\n",
        "b. Sending the Payloads Once the payload is defined, you can send it to the Modellake API to perform the translation."
      ],
      "metadata": {
        "id": "tD6BpwLjR5YY"
      }
    },
    {
      "cell_type": "code",
      "source": [
        "# Define the text to translate and source language\n",
        "translation_request = {\n",
        "    \"text\": [\"red shirt under Rs 500\"],\n",
        "    \"source_lang_code\": \"en\",  # Source language: English\n",
        "    \"model\": \"openai\"          # Translation model\n",
        "}\n",
        "\n",
        "# Extended list of target languages with their ISO 639-1 codes\n",
        "target_languages = {\n",
        "    \"Malayalam\": \"ml\",\n",
        "    \"Hindi\": \"hi\",\n",
        "    \"Tamil\": \"ta\",\n",
        "    \"Telugu\": \"te\",\n",
        "    \"Kannada\": \"kn\",\n",
        "    \"Spanish\": \"es\",\n",
        "    \"French\": \"fr\",\n",
        "    \"German\": \"de\",\n",
        "    \"Chinese (Simplified)\": \"zh\",\n",
        "    \"Japanese\": \"ja\",\n",
        "    \"Korean\": \"ko\",\n",
        "    \"Russian\": \"ru\",\n",
        "    \"Arabic\": \"ar\",\n",
        "    \"Italian\": \"it\",\n",
        "    \"Portuguese\": \"pt\",\n",
        "    \"Bengali\": \"bn\",\n",
        "    \"Punjabi\": \"pa\",\n",
        "    \"Urdu\": \"ur\",\n",
        "    \"Gujarati\": \"gu\",\n",
        "    \"Marathi\": \"mr\",\n",
        "    \"Swahili\": \"sw\",\n",
        "    \"Turkish\": \"tr\",\n",
        "    \"Vietnamese\": \"vi\",\n",
        "    \"Thai\": \"th\",\n",
        "    \"Dutch\": \"nl\",\n",
        "    \"Polish\": \"pl\",\n",
        "    \"Swedish\": \"sv\",\n",
        "    \"Greek\": \"el\",\n",
        "    \"Czech\": \"cs\",\n",
        "    \"Hungarian\": \"hu\",\n",
        "    \"Finnish\": \"fi\",\n",
        "    \"Norwegian\": \"no\",\n",
        "    \"Danish\": \"da\"\n",
        "}\n",
        "\n",
        "# Perform translations and display results\n",
        "print(\"### Translations in Multiple Languages ###\\n\")\n",
        "\n",
        "for language, lang_code in target_languages.items():\n",
        "    # Update the target language code in the request\n",
        "    translation_request[\"target_lang_code\"] = lang_code\n",
        "\n",
        "    # Perform the translation\n",
        "    translation_response = model_lake.translate(translation_request)\n",
        "\n",
        "    # Extract the translated text\n",
        "    translated_text = translation_response['translated_text'][0]\n",
        "\n",
        "    # Print the result\n",
        "    print(f\"{language}:\")\n",
        "    print(f\"  {translated_text}\\n\")\n",
        "\n",
        "print(\"### End of Translations ###\")\n"
      ],
      "metadata": {
        "id": "Owv1-AZzstHe"
      },
      "execution_count": null,
      "outputs": []
    },
    {
      "cell_type": "markdown",
      "source": [
        "# Now we will see how you can use Modellake Conversation AI"
      ],
      "metadata": {
        "id": "Sosi1J6D-af0"
      }
    },
    {
      "cell_type": "markdown",
      "source": [
        "A. Defining The Payloads"
      ],
      "metadata": {
        "id": "0dSG2Muy-sl4"
      }
    },
    {
      "cell_type": "code",
      "source": [
        "# Expanded payload with multiple prompts\n",
        "payloads = [\n",
        "    {\n",
        "        \"messages\": [\n",
        "            {\"role\": \"system\", \"content\": \"You are a helpful assistant.\"},\n",
        "            {\n",
        "                \"role\": \"user\",\n",
        "                \"content\": \"Explain recursion in simple terms.\"\n",
        "            }\n",
        "        ]\n",
        "    },\n",
        "    {\n",
        "        \"messages\": [\n",
        "            {\"role\": \"system\", \"content\": \"You are a witty assistant.\"},\n",
        "            {\n",
        "                \"role\": \"user\",\n",
        "                \"content\": \"Tell me a joke about programming.\"\n",
        "            }\n",
        "        ]\n",
        "    },\n",
        "    {\n",
        "        \"messages\": [\n",
        "            {\"role\": \"system\", \"content\": \"You are a poetic assistant.\"},\n",
        "            {\n",
        "                \"role\": \"user\",\n",
        "                \"content\": \"Write a sonnet about artificial intelligence.\"\n",
        "            }\n",
        "        ]\n",
        "    }\n",
        "]\n"
      ],
      "metadata": {
        "id": "7FWCnB8IuVTy"
      },
      "execution_count": 5,
      "outputs": []
    },
    {
      "cell_type": "markdown",
      "source": [
        "B. Sending The Payloads"
      ],
      "metadata": {
        "id": "RsCwrJMq-yan"
      }
    },
    {
      "cell_type": "code",
      "source": [
        "# Iterate over payloads and generate responses\n",
        "for i, payload in enumerate(payloads):\n",
        "    try:\n",
        "        # Perform the chat completion\n",
        "        chat_response = model_lake.chat_complete(payload)\n",
        "\n",
        "        # Extract and print the response\n",
        "        chat_answer = chat_response[\"answer\"]\n",
        "        print(f\"Prompt {i + 1} Response:\\n{chat_answer}\\n\")\n",
        "\n",
        "    except Exception as e:\n",
        "        print(f\"Error processing Prompt {i + 1}:\", str(e))\n"
      ],
      "metadata": {
        "id": "9mnPHzzyujhY"
      },
      "execution_count": null,
      "outputs": []
    },
    {
      "cell_type": "markdown",
      "source": [
        "# 4. Creating a Customized Chatbot with Conversation AI\n",
        "Now that you've seen how to work with language translation, let's explore how to use Conversation AI to build a custom chatbot. This functionality allows you to create chatbots with specific instructions, descriptions, and starter conversations.\n",
        "\n",
        "a. Defining Chatbot Instructions and Description\n",
        "Start by defining the bot’s core functionality and behavior. This includes providing an appropriate name, a brief description, and setting up instructions on how the chatbot should interact with users."
      ],
      "metadata": {
        "id": "ye6wwnGY-1dz"
      }
    },
    {
      "cell_type": "code",
      "source": [
        "# Customization settings (modify as needed)\n",
        "chatbot_name = \"Dr. Assistant\"  # Custom name of the chatbot\n",
        "chatbot_description = \"I am a virtual doctor here to assist you with medical questions.\"  # Custom description\n",
        "chatbot_instructions = \"Please provide helpful and accurate medical advice based on the symptoms described.\"  # Custom instructions\n",
        "conversation_starters = [\"What are the symptoms of a cold?\", \"Can you help me with my headache?\", \"What should I do if I have a fever?\"]  # Custom conversation starters\n",
        "\n",
        "# Function to introduce the chatbot with its persona\n",
        "def introduce_chatbot():\n",
        "    print(f\"Welcome to {chatbot_name}!\")\n",
        "    print(f\"Description: {chatbot_description}\")\n",
        "    print(f\"Instructions: {chatbot_instructions}\\n\")\n",
        "    print(\"Here are some conversation starters to try:\")\n",
        "    print(\", \".join(conversation_starters))\n",
        "\n",
        "# Simple chatbot loop with custom behavior\n",
        "def chatbot():\n",
        "    # Introduce the chatbot and its persona\n",
        "    introduce_chatbot()\n",
        "\n",
        "    # Initialize conversation history\n",
        "    conversation_history = []\n",
        "\n",
        "    while True:\n",
        "        try:\n",
        "            # Prompt the user with conversation starters if available\n",
        "            print(f\"\\nHere are some conversation starters to try: {', '.join(conversation_starters)}\")\n",
        "            print(f\"Type 'exit' to end the conversation or ask your chatbot '{chatbot_name}': \")\n",
        "\n",
        "            # Get user input\n",
        "            user_input = input(\"You: \")\n",
        "            if user_input.lower() == 'exit':\n",
        "                restart = input(\"Do you want to start a new conversation? (yes/no): \").lower()\n",
        "                if restart == 'yes':\n",
        "                    conversation_history = []  # Reset conversation history\n",
        "                    print(\"Starting a new conversation...\\n\")\n",
        "                    continue\n",
        "                else:\n",
        "                    print(f\"{chatbot_name}: Goodbye!\")\n",
        "                    break  # Properly break out of the loop to stop the chatbot\n",
        "\n",
        "            # Append user's input to conversation history\n",
        "            conversation_history.append({\"role\": \"user\", \"content\": user_input})\n",
        "\n",
        "            # Create the payload\n",
        "            payload = {\n",
        "                \"messages\": conversation_history,\n",
        "                \"token_size\": 300  # Increase max tokens for more complex answers\n",
        "            }\n",
        "\n",
        "            # Pass the payload to chat_complete\n",
        "            response = model_lake.chat_complete(payload=payload)\n",
        "\n",
        "            # Extract the assistant's reply\n",
        "            bot_reply = response.get('answer', 'Sorry, I couldn\\'t process that.')\n",
        "\n",
        "            # Print the chatbot's reply\n",
        "            print(f\"{chatbot_name}: {bot_reply}\\n\")\n",
        "\n",
        "            # Append the bot's reply to conversation history\n",
        "            conversation_history.append({\"role\": \"assistant\", \"content\": bot_reply})\n",
        "\n",
        "        except Exception as e:\n",
        "            print(f\"An error occurred during chat processing: {e}\")\n",
        "            continue  # Continue the chat even after an error\n",
        "\n",
        "# Run the chatbot\n",
        "chatbot()\n"
      ],
      "metadata": {
        "id": "0zgxZkLRvBR_"
      },
      "execution_count": null,
      "outputs": []
    }
  ]
}