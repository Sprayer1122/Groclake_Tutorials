{
  "nbformat": 4,
  "nbformat_minor": 0,
  "metadata": {
    "colab": {
      "provenance": [],
      "authorship_tag": "ABX9TyMOgbJFuq5AgomkPQs5k6HR",
      "include_colab_link": true
    },
    "kernelspec": {
      "name": "python3",
      "display_name": "Python 3"
    },
    "language_info": {
      "name": "python"
    }
  },
  "cells": [
    {
      "cell_type": "markdown",
      "metadata": {
        "id": "view-in-github",
        "colab_type": "text"
      },
      "source": [
        "<a href=\"https://colab.research.google.com/github/Sprayer1122/Groclake_Tutorials/blob/main/Groclake_Set_Up.ipynb\" target=\"_parent\"><img src=\"https://colab.research.google.com/assets/colab-badge.svg\" alt=\"Open In Colab\"/></a>"
      ]
    },
    {
      "cell_type": "markdown",
      "source": [
        "Install The Groclake Library"
      ],
      "metadata": {
        "id": "U57KqTQlePQM"
      }
    },
    {
      "cell_type": "code",
      "execution_count": null,
      "metadata": {
        "id": "NJYqhN7YeMne"
      },
      "outputs": [],
      "source": [
        "pip install groclake==0.2.1"
      ]
    },
    {
      "cell_type": "markdown",
      "source": [
        "# Initialization and Set Up"
      ],
      "metadata": {
        "id": "ukComMJEfL-J"
      }
    },
    {
      "cell_type": "markdown",
      "source": [
        "# 1. Without .env File"
      ],
      "metadata": {
        "id": "2ql29HsZgjwq"
      }
    },
    {
      "cell_type": "code",
      "source": [
        "import os\n",
        "import inspect\n",
        "from groclake.cataloglake import Cataloglake\n",
        "from groclake.datalake import Datalake\n",
        "from groclake.vectorlake import Vectorlake\n",
        "from groclake.modellake import Modellake\n",
        "\n",
        "# Directly set the environment variables\n",
        "os.environ['GROCLAKE_API_KEY'] = 'your_api_key_here'\n",
        "os.environ['GROCLAKE_ACCOUNT_ID'] = 'your_account_id_here'\n",
        "\n",
        "# Initialize Groclake modules\n",
        "catalog_lake = Cataloglake()\n",
        "data_lake = Datalake()\n",
        "vector_lake = Vectorlake()\n",
        "model_lake = Modellake()\n"
      ],
      "metadata": {
        "id": "g-tVfX5geaEV"
      },
      "execution_count": 2,
      "outputs": []
    },
    {
      "cell_type": "markdown",
      "source": [
        "# 2. With .env file Set"
      ],
      "metadata": {
        "id": "CQxjnjWmf3Pl"
      }
    },
    {
      "cell_type": "code",
      "source": [
        "pip install python-dotenv\n"
      ],
      "metadata": {
        "colab": {
          "base_uri": "https://localhost:8080/"
        },
        "id": "F0e3ucUvf6d_",
        "outputId": "ec06bdb3-44f2-48e7-f311-b8e04a81e7b1"
      },
      "execution_count": null,
      "outputs": [
        {
          "output_type": "stream",
          "name": "stdout",
          "text": [
            "Requirement already satisfied: python-dotenv in /usr/local/lib/python3.10/dist-packages (1.0.1)\n"
          ]
        }
      ]
    },
    {
      "cell_type": "code",
      "source": [
        "import os\n",
        "import inspect\n",
        "from dotenv import load_dotenv  # Import the load_dotenv function\n",
        "from groclake.cataloglake import Cataloglake\n",
        "from groclake.datalake import Datalake\n",
        "from groclake.vectorlake import Vectorlake\n",
        "from groclake.modellake import Modellake\n",
        "\n",
        "# Load environment variables from .env file\n",
        "load_dotenv()  # This will automatically load the variables from the .env file\n",
        "\n",
        "# Initialize Groclake modules\n",
        "catalog_lake = Cataloglake()\n",
        "data_lake = Datalake()\n",
        "vector_lake = Vectorlake()\n",
        "model_lake = Modellake()\n"
      ],
      "metadata": {
        "id": "iyqrKnrof-T_"
      },
      "execution_count": null,
      "outputs": []
    }
  ]
}